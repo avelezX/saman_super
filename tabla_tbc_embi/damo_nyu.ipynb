{
 "cells": [
  {
   "cell_type": "code",
   "execution_count": 5,
   "id": "c348077d",
   "metadata": {},
   "outputs": [
    {
     "name": "stdout",
     "output_type": "stream",
     "text": [
      "Archivo descargado como 'ctryprem.xlsx'\n"
     ]
    }
   ],
   "source": [
    "import requests\n",
    "\n",
    "# URL del archivo Excel\n",
    "url = \"https://www.stern.nyu.edu/~adamodar/pc/datasets/ctryprem.xlsx\"\n",
    "\n",
    "# Descargar el archivo\n",
    "response = requests.get(url)\n",
    "\n",
    "# Guardar el archivo como ctryprem.xlsx\n",
    "with open(\"ctryprem.xlsx\", \"wb\") as file:\n",
    "    file.write(response.content)\n",
    "\n",
    "print(\"Archivo descargado como 'ctryprem.xlsx'\")"
   ]
  },
  {
   "cell_type": "code",
   "execution_count": 4,
   "id": "b6bac175",
   "metadata": {},
   "outputs": [
    {
     "data": {
      "text/plain": [
       "<table border=\"0\" cellpadding=\"0\" cellspacing=\"0\" style=\"border-collapse:\n",
       " collapse;table-layout:fixed;width:863pt\" width=\"1154\">\n",
       "<col style=\"mso-width-source:userset;mso-width-alt:6314;width:148pt\" width=\"197\"/>\n",
       "<col span=\"11\" style=\"width:65pt\" width=\"87\"/>\n",
       "<tr class=\"xl7039\" height=\"29\" style=\"mso-height-source:userset;height:22.0pt\">\n",
       "<td align=\"left\" class=\"xl7139\" colspan=\"2\" height=\"29\" style=\"height:22.0pt;\n",
       "  mso-ignore:colspan;width:213pt\" width=\"284\">My paper on equity risk premiums:</td>\n",
       "<td class=\"xl7039\" style=\"width:65pt\" width=\"87\"></td>\n",
       "<td class=\"xl7039\" style=\"width:65pt\" width=\"87\"></td>\n",
       "<td class=\"xl7432\" colspan=\"8\" style=\"width:520pt\" width=\"696\"><a href=\"https://papers.ssrn.com/sol3/papers.cfm?abstract_id=4398884\">https://papers.ssrn.com/sol3/papers.cfm?abstract_id=4398884</a></td>\n",
       "</tr>\n",
       "<tr class=\"xl7039\" height=\"21\" style=\"height:16.0pt\">\n",
       "<td align=\"left\" class=\"xl7139\" colspan=\"2\" height=\"21\" style=\"height:16.0pt;\n",
       "  mso-ignore:colspan\">My paper on country risk premiums:</td>\n",
       "<td class=\"xl7039\"></td>\n",
       "<td class=\"xl7039\"></td>\n",
       "<td align=\"left\" class=\"xl7336\" colspan=\"5\" style=\"mso-ignore:colspan\">https://papers.ssrn.com/sol3/papers.cfm?abstract_id=4509578</td>\n",
       "<td class=\"xl7039\"></td>\n",
       "<td class=\"xl7039\"></td>\n",
       "<td class=\"xl7039\"></td>\n",
       "</tr>\n",
       "<tr class=\"xl7039\" height=\"21\" style=\"height:16.0pt\">\n",
       "<td align=\"left\" class=\"xl7139\" colspan=\"3\" height=\"21\" style=\"height:16.0pt;\n",
       "  mso-ignore:colspan\">Watch my lectures on country risk premiums:</td>\n",
       "<td class=\"xl7039\"></td>\n",
       "<td align=\"left\" class=\"xl7239\" colspan=\"4\" style=\"mso-ignore:colspan\">https://www.youtube.com/watch?v=aIRPvY2SQ94</td>\n",
       "<td class=\"xl7039\"></td>\n",
       "<td class=\"xl7039\"></td>\n",
       "<td class=\"xl7039\"></td>\n",
       "<td class=\"xl7039\"></td>\n",
       "</tr>\n",
       "<tr class=\"xl7039\" height=\"21\" style=\"height:16.0pt\">\n",
       "<td class=\"xl7039\" height=\"21\" style=\"height:16.0pt\"></td>\n",
       "<td class=\"xl7039\"></td>\n",
       "<td class=\"xl7039\"></td>\n",
       "<td class=\"xl7039\"></td>\n",
       "<td align=\"left\" class=\"xl7239\" colspan=\"4\" style=\"mso-ignore:colspan\">https://www.youtube.com/watch?v=D3IGn6tH03c</td>\n",
       "<td class=\"xl7039\"></td>\n",
       "<td class=\"xl7039\"></td>\n",
       "<td class=\"xl7039\"></td>\n",
       "<td class=\"xl7039\"></td>\n",
       "</tr>\n",
       "<?if supportMisalignedColumns?>\n",
       "<tr height=\"0\" style=\"display:none\">\n",
       "<td style=\"width:148pt\" width=\"197\"></td>\n",
       "<td style=\"width:65pt\" width=\"87\"></td>\n",
       "<td style=\"width:65pt\" width=\"87\"></td>\n",
       "<td style=\"width:65pt\" width=\"87\"></td>\n",
       "<td style=\"width:65pt\" width=\"87\"></td>\n",
       "<td style=\"width:65pt\" width=\"87\"></td>\n",
       "<td style=\"width:65pt\" width=\"87\"></td>\n",
       "<td style=\"width:65pt\" width=\"87\"></td>\n",
       "<td style=\"width:65pt\" width=\"87\"></td>\n",
       "<td style=\"width:65pt\" width=\"87\"></td>\n",
       "<td style=\"width:65pt\" width=\"87\"></td>\n",
       "<td style=\"width:65pt\" width=\"87\"></td>\n",
       "</tr>\n",
       "<?endif?>\n",
       "</table>"
      ]
     },
     "execution_count": 4,
     "metadata": {},
     "output_type": "execute_result"
    }
   ],
   "source": [
    "table"
   ]
  },
  {
   "cell_type": "code",
   "execution_count": null,
   "id": "89291410",
   "metadata": {},
   "outputs": [],
   "source": []
  }
 ],
 "metadata": {
  "kernelspec": {
   "display_name": ".venv",
   "language": "python",
   "name": "python3"
  },
  "language_info": {
   "codemirror_mode": {
    "name": "ipython",
    "version": 3
   },
   "file_extension": ".py",
   "mimetype": "text/x-python",
   "name": "python",
   "nbconvert_exporter": "python",
   "pygments_lexer": "ipython3",
   "version": "3.11.9"
  }
 },
 "nbformat": 4,
 "nbformat_minor": 5
}
